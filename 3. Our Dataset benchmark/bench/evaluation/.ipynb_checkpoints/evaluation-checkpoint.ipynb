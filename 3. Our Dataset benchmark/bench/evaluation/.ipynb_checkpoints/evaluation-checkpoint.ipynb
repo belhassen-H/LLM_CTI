{
 "cells": [
  {
   "cell_type": "markdown",
   "id": "62ace62a-0973-4177-87e7-dfb40c5ffa3c",
   "metadata": {},
   "source": [
    "### Evaluation Notebook for LLM Responses\n",
    "\n",
    "This notebook contains scripts to evaluate the properly formatted responses from large language models (LLMs) for four tasks:\n",
    "\n",
    "- **CTI-MCQ Task**: The response should be a letter corresponding to the correct answer (A, B, C, D or X which indicates error, such as refusing to answer).\n",
    "- **CTI-RCM and CTI-RCM-2021 Tasks**: The response should be a properly formatted CWE ID.\n",
    "- **CTI-VSP Task**: The response should be a properly formatted CVSS v3 string.\n",
    "- **CTI-TAA Task**: The response should be the name of the threat actor.\n",
    "\n",
    "Check the files in the `responses` folder for examples. This notebook will evaluate the responses from the ChatGPT-4 model and calculate the evaluation metrics.\n",
    "\n",
    "Libraries required\n",
    "- pandas\n",
    "- cvss (https://pypi.org/project/cvss/)"
   ]
  },
  {
   "cell_type": "code",
   "execution_count": null,
   "id": "ccc0cf5f-5df1-42b9-8319-289b2d6ac048",
   "metadata": {},
   "outputs": [],
   "source": []
  },
  {
   "cell_type": "code",
   "execution_count": 1,
   "id": "ba4e2556-69dd-4f68-b2df-57883864924f",
   "metadata": {},
   "outputs": [],
   "source": [
    "import pandas as pd\n",
    "from cvss import CVSS3\n",
    "import pickle"
   ]
  },
  {
   "cell_type": "code",
   "execution_count": 12,
   "id": "45c2fd71-6d9c-4318-a40b-30042924474f",
   "metadata": {},
   "outputs": [],
   "source": [
    "model_name = 'LLAMA3-70B'  # corresponds to the column name in the respone sheet\n",
    "model_name2 = 'LLAMA3-8B'  # corresponds to the column name in the respone sheet"
   ]
  },
  {
   "cell_type": "markdown",
   "id": "ffd9dc40-7137-408e-a409-856f6c04fcb1",
   "metadata": {},
   "source": [
    "### CTI-MCQ evaluation"
   ]
  },
  {
   "cell_type": "code",
   "execution_count": 52,
   "id": "b633a5be-9ec3-4459-8b9a-6553e570738b",
   "metadata": {},
   "outputs": [],
   "source": [
    "def compute_mcq_accuracy(fname, col):\n",
    "    df = pd.read_csv(fname, sep='\\t')\n",
    "    correct = 0\n",
    "    total = 0\n",
    "    for idx, row in df.iterrows():\n",
    "        pred = row[col]\n",
    "        gt = row['GT'].upper()\n",
    "        if pred in ['A', 'B', 'C', 'D', 'X']:\n",
    "            total += 1\n",
    "        else:\n",
    "            print('Invalid response at row {}'.format(idx+1))\n",
    "        if pred == gt:\n",
    "            correct += 1\n",
    "    return correct/total*100"
   ]
  },
  {
   "cell_type": "code",
   "execution_count": 54,
   "id": "edcd46c4-422a-45f2-8703-05603a73cbbf",
   "metadata": {
    "scrolled": true
   },
   "outputs": [
    {
     "name": "stdout",
     "output_type": "stream",
     "text": [
      "Invalid response at row 1664\n",
      "Invalid response at row 1694\n",
      "Invalid response at row 2020\n",
      "Accuracy: 63.3809758501725\n"
     ]
    }
   ],
   "source": [
    "print('Accuracy:', compute_mcq_accuracy('responses/EvaluationFinale_MCQ.tsv', model_name))"
   ]
  },
  {
   "cell_type": "markdown",
   "id": "8b3578bb-a5ee-4f7d-a3c6-300262d23d10",
   "metadata": {},
   "source": [
    "### CTI-RCM evaluation"
   ]
  },
  {
   "cell_type": "code",
   "execution_count": 64,
   "id": "32c0ab51-21ae-47c2-b121-603e5205c089",
   "metadata": {},
   "outputs": [],
   "source": [
    "def compute_rcm_accuracy(fname, col):\n",
    "    df = pd.read_csv(fname, sep='\\t')\n",
    "    correct = 0\n",
    "    total = 0\n",
    "    for idx, row in df.iterrows():\n",
    "        pred = row[col].upper()\n",
    "        gt = row['GT'].upper()\n",
    "        if pred.startswith('CWE-'):\n",
    "            total += 1\n",
    "        else:\n",
    "            print('Invalid response at row {}'.format(idx+1))\n",
    "        if pred == gt:\n",
    "            correct += 1\n",
    "    return correct/total*100"
   ]
  },
  {
   "cell_type": "code",
   "execution_count": 66,
   "id": "1c2dbd40-600a-4ad7-a7ac-58efe21ee07b",
   "metadata": {},
   "outputs": [
    {
     "ename": "KeyError",
     "evalue": "'LLAMA3-70B'",
     "output_type": "error",
     "traceback": [
      "\u001b[1;31m---------------------------------------------------------------------------\u001b[0m",
      "\u001b[1;31mKeyError\u001b[0m                                  Traceback (most recent call last)",
      "File \u001b[1;32m~\\anaconda3\\Lib\\site-packages\\pandas\\core\\indexes\\base.py:3805\u001b[0m, in \u001b[0;36mIndex.get_loc\u001b[1;34m(self, key)\u001b[0m\n\u001b[0;32m   3804\u001b[0m \u001b[38;5;28;01mtry\u001b[39;00m:\n\u001b[1;32m-> 3805\u001b[0m     \u001b[38;5;28;01mreturn\u001b[39;00m \u001b[38;5;28mself\u001b[39m\u001b[38;5;241m.\u001b[39m_engine\u001b[38;5;241m.\u001b[39mget_loc(casted_key)\n\u001b[0;32m   3806\u001b[0m \u001b[38;5;28;01mexcept\u001b[39;00m \u001b[38;5;167;01mKeyError\u001b[39;00m \u001b[38;5;28;01mas\u001b[39;00m err:\n",
      "File \u001b[1;32mindex.pyx:167\u001b[0m, in \u001b[0;36mpandas._libs.index.IndexEngine.get_loc\u001b[1;34m()\u001b[0m\n",
      "File \u001b[1;32mindex.pyx:196\u001b[0m, in \u001b[0;36mpandas._libs.index.IndexEngine.get_loc\u001b[1;34m()\u001b[0m\n",
      "File \u001b[1;32mpandas\\\\_libs\\\\hashtable_class_helper.pxi:7081\u001b[0m, in \u001b[0;36mpandas._libs.hashtable.PyObjectHashTable.get_item\u001b[1;34m()\u001b[0m\n",
      "File \u001b[1;32mpandas\\\\_libs\\\\hashtable_class_helper.pxi:7089\u001b[0m, in \u001b[0;36mpandas._libs.hashtable.PyObjectHashTable.get_item\u001b[1;34m()\u001b[0m\n",
      "\u001b[1;31mKeyError\u001b[0m: 'LLAMA3-70B'",
      "\nThe above exception was the direct cause of the following exception:\n",
      "\u001b[1;31mKeyError\u001b[0m                                  Traceback (most recent call last)",
      "Cell \u001b[1;32mIn[66], line 1\u001b[0m\n\u001b[1;32m----> 1\u001b[0m \u001b[38;5;28mprint\u001b[39m(\u001b[38;5;124m'\u001b[39m\u001b[38;5;124mAccuracy:\u001b[39m\u001b[38;5;124m'\u001b[39m, compute_rcm_accuracy(\u001b[38;5;124m'\u001b[39m\u001b[38;5;124mresponses/EvaluationFinale_RCM.csv\u001b[39m\u001b[38;5;124m'\u001b[39m, model_name))\n",
      "Cell \u001b[1;32mIn[64], line 6\u001b[0m, in \u001b[0;36mcompute_rcm_accuracy\u001b[1;34m(fname, col)\u001b[0m\n\u001b[0;32m      4\u001b[0m total \u001b[38;5;241m=\u001b[39m \u001b[38;5;241m0\u001b[39m\n\u001b[0;32m      5\u001b[0m \u001b[38;5;28;01mfor\u001b[39;00m idx, row \u001b[38;5;129;01min\u001b[39;00m df\u001b[38;5;241m.\u001b[39miterrows():\n\u001b[1;32m----> 6\u001b[0m     pred \u001b[38;5;241m=\u001b[39m row[col]\n\u001b[0;32m      7\u001b[0m     gt \u001b[38;5;241m=\u001b[39m row[\u001b[38;5;124m'\u001b[39m\u001b[38;5;124mGT\u001b[39m\u001b[38;5;124m'\u001b[39m]\u001b[38;5;241m.\u001b[39mupper()\n\u001b[0;32m      8\u001b[0m     \u001b[38;5;28;01mif\u001b[39;00m pred\u001b[38;5;241m.\u001b[39mstartswith(\u001b[38;5;124m'\u001b[39m\u001b[38;5;124mCWE-\u001b[39m\u001b[38;5;124m'\u001b[39m):\n",
      "File \u001b[1;32m~\\anaconda3\\Lib\\site-packages\\pandas\\core\\series.py:1121\u001b[0m, in \u001b[0;36mSeries.__getitem__\u001b[1;34m(self, key)\u001b[0m\n\u001b[0;32m   1118\u001b[0m     \u001b[38;5;28;01mreturn\u001b[39;00m \u001b[38;5;28mself\u001b[39m\u001b[38;5;241m.\u001b[39m_values[key]\n\u001b[0;32m   1120\u001b[0m \u001b[38;5;28;01melif\u001b[39;00m key_is_scalar:\n\u001b[1;32m-> 1121\u001b[0m     \u001b[38;5;28;01mreturn\u001b[39;00m \u001b[38;5;28mself\u001b[39m\u001b[38;5;241m.\u001b[39m_get_value(key)\n\u001b[0;32m   1123\u001b[0m \u001b[38;5;66;03m# Convert generator to list before going through hashable part\u001b[39;00m\n\u001b[0;32m   1124\u001b[0m \u001b[38;5;66;03m# (We will iterate through the generator there to check for slices)\u001b[39;00m\n\u001b[0;32m   1125\u001b[0m \u001b[38;5;28;01mif\u001b[39;00m is_iterator(key):\n",
      "File \u001b[1;32m~\\anaconda3\\Lib\\site-packages\\pandas\\core\\series.py:1237\u001b[0m, in \u001b[0;36mSeries._get_value\u001b[1;34m(self, label, takeable)\u001b[0m\n\u001b[0;32m   1234\u001b[0m     \u001b[38;5;28;01mreturn\u001b[39;00m \u001b[38;5;28mself\u001b[39m\u001b[38;5;241m.\u001b[39m_values[label]\n\u001b[0;32m   1236\u001b[0m \u001b[38;5;66;03m# Similar to Index.get_value, but we do not fall back to positional\u001b[39;00m\n\u001b[1;32m-> 1237\u001b[0m loc \u001b[38;5;241m=\u001b[39m \u001b[38;5;28mself\u001b[39m\u001b[38;5;241m.\u001b[39mindex\u001b[38;5;241m.\u001b[39mget_loc(label)\n\u001b[0;32m   1239\u001b[0m \u001b[38;5;28;01mif\u001b[39;00m is_integer(loc):\n\u001b[0;32m   1240\u001b[0m     \u001b[38;5;28;01mreturn\u001b[39;00m \u001b[38;5;28mself\u001b[39m\u001b[38;5;241m.\u001b[39m_values[loc]\n",
      "File \u001b[1;32m~\\anaconda3\\Lib\\site-packages\\pandas\\core\\indexes\\base.py:3812\u001b[0m, in \u001b[0;36mIndex.get_loc\u001b[1;34m(self, key)\u001b[0m\n\u001b[0;32m   3807\u001b[0m     \u001b[38;5;28;01mif\u001b[39;00m \u001b[38;5;28misinstance\u001b[39m(casted_key, \u001b[38;5;28mslice\u001b[39m) \u001b[38;5;129;01mor\u001b[39;00m (\n\u001b[0;32m   3808\u001b[0m         \u001b[38;5;28misinstance\u001b[39m(casted_key, abc\u001b[38;5;241m.\u001b[39mIterable)\n\u001b[0;32m   3809\u001b[0m         \u001b[38;5;129;01mand\u001b[39;00m \u001b[38;5;28many\u001b[39m(\u001b[38;5;28misinstance\u001b[39m(x, \u001b[38;5;28mslice\u001b[39m) \u001b[38;5;28;01mfor\u001b[39;00m x \u001b[38;5;129;01min\u001b[39;00m casted_key)\n\u001b[0;32m   3810\u001b[0m     ):\n\u001b[0;32m   3811\u001b[0m         \u001b[38;5;28;01mraise\u001b[39;00m InvalidIndexError(key)\n\u001b[1;32m-> 3812\u001b[0m     \u001b[38;5;28;01mraise\u001b[39;00m \u001b[38;5;167;01mKeyError\u001b[39;00m(key) \u001b[38;5;28;01mfrom\u001b[39;00m \u001b[38;5;21;01merr\u001b[39;00m\n\u001b[0;32m   3813\u001b[0m \u001b[38;5;28;01mexcept\u001b[39;00m \u001b[38;5;167;01mTypeError\u001b[39;00m:\n\u001b[0;32m   3814\u001b[0m     \u001b[38;5;66;03m# If we have a listlike key, _check_indexing_error will raise\u001b[39;00m\n\u001b[0;32m   3815\u001b[0m     \u001b[38;5;66;03m#  InvalidIndexError. Otherwise we fall through and re-raise\u001b[39;00m\n\u001b[0;32m   3816\u001b[0m     \u001b[38;5;66;03m#  the TypeError.\u001b[39;00m\n\u001b[0;32m   3817\u001b[0m     \u001b[38;5;28mself\u001b[39m\u001b[38;5;241m.\u001b[39m_check_indexing_error(key)\n",
      "\u001b[1;31mKeyError\u001b[0m: 'LLAMA3-70B'"
     ]
    }
   ],
   "source": [
    "print('Accuracy:', compute_rcm_accuracy('responses/EvaluationFinale_RCM.csv', model_name))"
   ]
  },
  {
   "cell_type": "code",
   "execution_count": 62,
   "id": "1de485e7-122e-4fe7-a4b5-b3f3a102bbbc",
   "metadata": {},
   "outputs": [
    {
     "ename": "KeyError",
     "evalue": "'LLAMA3-8B'",
     "output_type": "error",
     "traceback": [
      "\u001b[1;31m---------------------------------------------------------------------------\u001b[0m",
      "\u001b[1;31mKeyError\u001b[0m                                  Traceback (most recent call last)",
      "File \u001b[1;32m~\\anaconda3\\Lib\\site-packages\\pandas\\core\\indexes\\base.py:3805\u001b[0m, in \u001b[0;36mIndex.get_loc\u001b[1;34m(self, key)\u001b[0m\n\u001b[0;32m   3804\u001b[0m \u001b[38;5;28;01mtry\u001b[39;00m:\n\u001b[1;32m-> 3805\u001b[0m     \u001b[38;5;28;01mreturn\u001b[39;00m \u001b[38;5;28mself\u001b[39m\u001b[38;5;241m.\u001b[39m_engine\u001b[38;5;241m.\u001b[39mget_loc(casted_key)\n\u001b[0;32m   3806\u001b[0m \u001b[38;5;28;01mexcept\u001b[39;00m \u001b[38;5;167;01mKeyError\u001b[39;00m \u001b[38;5;28;01mas\u001b[39;00m err:\n",
      "File \u001b[1;32mindex.pyx:167\u001b[0m, in \u001b[0;36mpandas._libs.index.IndexEngine.get_loc\u001b[1;34m()\u001b[0m\n",
      "File \u001b[1;32mindex.pyx:196\u001b[0m, in \u001b[0;36mpandas._libs.index.IndexEngine.get_loc\u001b[1;34m()\u001b[0m\n",
      "File \u001b[1;32mpandas\\\\_libs\\\\hashtable_class_helper.pxi:7081\u001b[0m, in \u001b[0;36mpandas._libs.hashtable.PyObjectHashTable.get_item\u001b[1;34m()\u001b[0m\n",
      "File \u001b[1;32mpandas\\\\_libs\\\\hashtable_class_helper.pxi:7089\u001b[0m, in \u001b[0;36mpandas._libs.hashtable.PyObjectHashTable.get_item\u001b[1;34m()\u001b[0m\n",
      "\u001b[1;31mKeyError\u001b[0m: 'LLAMA3-8B'",
      "\nThe above exception was the direct cause of the following exception:\n",
      "\u001b[1;31mKeyError\u001b[0m                                  Traceback (most recent call last)",
      "Cell \u001b[1;32mIn[62], line 1\u001b[0m\n\u001b[1;32m----> 1\u001b[0m \u001b[38;5;28mprint\u001b[39m(\u001b[38;5;124m'\u001b[39m\u001b[38;5;124mAccuracy:\u001b[39m\u001b[38;5;124m'\u001b[39m, compute_rcm_accuracy(\u001b[38;5;124m'\u001b[39m\u001b[38;5;124mresponses/EvaluationFinale_RCM.csv\u001b[39m\u001b[38;5;124m'\u001b[39m, model_name2))\n",
      "Cell \u001b[1;32mIn[56], line 6\u001b[0m, in \u001b[0;36mcompute_rcm_accuracy\u001b[1;34m(fname, col)\u001b[0m\n\u001b[0;32m      4\u001b[0m total \u001b[38;5;241m=\u001b[39m \u001b[38;5;241m0\u001b[39m\n\u001b[0;32m      5\u001b[0m \u001b[38;5;28;01mfor\u001b[39;00m idx, row \u001b[38;5;129;01min\u001b[39;00m df\u001b[38;5;241m.\u001b[39miterrows():\n\u001b[1;32m----> 6\u001b[0m     pred \u001b[38;5;241m=\u001b[39m row[col]\u001b[38;5;241m.\u001b[39mupper()\n\u001b[0;32m      7\u001b[0m     gt \u001b[38;5;241m=\u001b[39m row[\u001b[38;5;124m'\u001b[39m\u001b[38;5;124mGT\u001b[39m\u001b[38;5;124m'\u001b[39m]\u001b[38;5;241m.\u001b[39mupper()\n\u001b[0;32m      8\u001b[0m     \u001b[38;5;28;01mif\u001b[39;00m pred\u001b[38;5;241m.\u001b[39mstartswith(\u001b[38;5;124m'\u001b[39m\u001b[38;5;124mCWE-\u001b[39m\u001b[38;5;124m'\u001b[39m):\n",
      "File \u001b[1;32m~\\anaconda3\\Lib\\site-packages\\pandas\\core\\series.py:1121\u001b[0m, in \u001b[0;36mSeries.__getitem__\u001b[1;34m(self, key)\u001b[0m\n\u001b[0;32m   1118\u001b[0m     \u001b[38;5;28;01mreturn\u001b[39;00m \u001b[38;5;28mself\u001b[39m\u001b[38;5;241m.\u001b[39m_values[key]\n\u001b[0;32m   1120\u001b[0m \u001b[38;5;28;01melif\u001b[39;00m key_is_scalar:\n\u001b[1;32m-> 1121\u001b[0m     \u001b[38;5;28;01mreturn\u001b[39;00m \u001b[38;5;28mself\u001b[39m\u001b[38;5;241m.\u001b[39m_get_value(key)\n\u001b[0;32m   1123\u001b[0m \u001b[38;5;66;03m# Convert generator to list before going through hashable part\u001b[39;00m\n\u001b[0;32m   1124\u001b[0m \u001b[38;5;66;03m# (We will iterate through the generator there to check for slices)\u001b[39;00m\n\u001b[0;32m   1125\u001b[0m \u001b[38;5;28;01mif\u001b[39;00m is_iterator(key):\n",
      "File \u001b[1;32m~\\anaconda3\\Lib\\site-packages\\pandas\\core\\series.py:1237\u001b[0m, in \u001b[0;36mSeries._get_value\u001b[1;34m(self, label, takeable)\u001b[0m\n\u001b[0;32m   1234\u001b[0m     \u001b[38;5;28;01mreturn\u001b[39;00m \u001b[38;5;28mself\u001b[39m\u001b[38;5;241m.\u001b[39m_values[label]\n\u001b[0;32m   1236\u001b[0m \u001b[38;5;66;03m# Similar to Index.get_value, but we do not fall back to positional\u001b[39;00m\n\u001b[1;32m-> 1237\u001b[0m loc \u001b[38;5;241m=\u001b[39m \u001b[38;5;28mself\u001b[39m\u001b[38;5;241m.\u001b[39mindex\u001b[38;5;241m.\u001b[39mget_loc(label)\n\u001b[0;32m   1239\u001b[0m \u001b[38;5;28;01mif\u001b[39;00m is_integer(loc):\n\u001b[0;32m   1240\u001b[0m     \u001b[38;5;28;01mreturn\u001b[39;00m \u001b[38;5;28mself\u001b[39m\u001b[38;5;241m.\u001b[39m_values[loc]\n",
      "File \u001b[1;32m~\\anaconda3\\Lib\\site-packages\\pandas\\core\\indexes\\base.py:3812\u001b[0m, in \u001b[0;36mIndex.get_loc\u001b[1;34m(self, key)\u001b[0m\n\u001b[0;32m   3807\u001b[0m     \u001b[38;5;28;01mif\u001b[39;00m \u001b[38;5;28misinstance\u001b[39m(casted_key, \u001b[38;5;28mslice\u001b[39m) \u001b[38;5;129;01mor\u001b[39;00m (\n\u001b[0;32m   3808\u001b[0m         \u001b[38;5;28misinstance\u001b[39m(casted_key, abc\u001b[38;5;241m.\u001b[39mIterable)\n\u001b[0;32m   3809\u001b[0m         \u001b[38;5;129;01mand\u001b[39;00m \u001b[38;5;28many\u001b[39m(\u001b[38;5;28misinstance\u001b[39m(x, \u001b[38;5;28mslice\u001b[39m) \u001b[38;5;28;01mfor\u001b[39;00m x \u001b[38;5;129;01min\u001b[39;00m casted_key)\n\u001b[0;32m   3810\u001b[0m     ):\n\u001b[0;32m   3811\u001b[0m         \u001b[38;5;28;01mraise\u001b[39;00m InvalidIndexError(key)\n\u001b[1;32m-> 3812\u001b[0m     \u001b[38;5;28;01mraise\u001b[39;00m \u001b[38;5;167;01mKeyError\u001b[39;00m(key) \u001b[38;5;28;01mfrom\u001b[39;00m \u001b[38;5;21;01merr\u001b[39;00m\n\u001b[0;32m   3813\u001b[0m \u001b[38;5;28;01mexcept\u001b[39;00m \u001b[38;5;167;01mTypeError\u001b[39;00m:\n\u001b[0;32m   3814\u001b[0m     \u001b[38;5;66;03m# If we have a listlike key, _check_indexing_error will raise\u001b[39;00m\n\u001b[0;32m   3815\u001b[0m     \u001b[38;5;66;03m#  InvalidIndexError. Otherwise we fall through and re-raise\u001b[39;00m\n\u001b[0;32m   3816\u001b[0m     \u001b[38;5;66;03m#  the TypeError.\u001b[39;00m\n\u001b[0;32m   3817\u001b[0m     \u001b[38;5;28mself\u001b[39m\u001b[38;5;241m.\u001b[39m_check_indexing_error(key)\n",
      "\u001b[1;31mKeyError\u001b[0m: 'LLAMA3-8B'"
     ]
    }
   ],
   "source": [
    "print('Accuracy:', compute_rcm_accuracy('responses/EvaluationFinale_RCM.csv', model_name2))"
   ]
  },
  {
   "cell_type": "markdown",
   "id": "0a9ec343-b24e-4292-9497-74856457edbd",
   "metadata": {},
   "source": [
    "### CTI-VSP evaluation"
   ]
  },
  {
   "cell_type": "code",
   "execution_count": 144,
   "id": "124adb9d-16a1-4166-af21-36d2591f0a23",
   "metadata": {},
   "outputs": [],
   "source": [
    "def get_cvss_score(cvss_vector):\n",
    "    c = CVSS3(cvss_vector)\n",
    "    cvss_score = c.scores()[0]\n",
    "    return cvss_score"
   ]
  },
  {
   "cell_type": "code",
   "execution_count": 146,
   "id": "427e46be-15c0-4bed-810a-f1fe9205a21f",
   "metadata": {},
   "outputs": [],
   "source": [
    "def compute_vsp_mad(fname, col):\n",
    "    cvss_prefix = 'CVSS:3.0/'   # should be empty string if the model responds with the prefix\n",
    "    df = pd.read_csv(fname, sep='\\t')\n",
    "    error = 0\n",
    "    total = 0\n",
    "    for idx, row in df.iterrows():\n",
    "        pred = row[col].upper()\n",
    "        gt = row['GT'].upper()\n",
    "        try:\n",
    "            pred_vector = cvss_prefix + pred\n",
    "            pred_score = get_cvss_score(pred_vector)\n",
    "            gt_score = get_cvss_score(gt)\n",
    "            error += abs(pred_score-gt_score)\n",
    "        except Exception as e:\n",
    "            print('Invalid response at row {}'.format(idx+1))\n",
    "            print(e)\n",
    "            continue\n",
    "        total += 1\n",
    "            \n",
    "    return error/total"
   ]
  },
  {
   "cell_type": "code",
   "execution_count": 148,
   "id": "90e52b99-4c9e-4caf-b220-f3ce8647d6c5",
   "metadata": {},
   "outputs": [
    {
     "name": "stdout",
     "output_type": "stream",
     "text": [
      "Mean Absolute Deviation: 1.3100000000000027\n"
     ]
    }
   ],
   "source": [
    "print('Mean Absolute Deviation:', compute_vsp_mad('responses/EvaluationFinale_VSP.tsv', model_name))"
   ]
  },
  {
   "cell_type": "markdown",
   "id": "5fef2f64-5b84-4f7b-b903-0532bc3df3a6",
   "metadata": {},
   "source": [
    "### CTI-TAA evaluation"
   ]
  },
  {
   "cell_type": "code",
   "execution_count": 32,
   "id": "6277c5b8-6aca-4617-88c9-f56d5424035c",
   "metadata": {},
   "outputs": [],
   "source": [
    "with open('alias_dict_NEW.pickle', 'rb') as handle:\n",
    "    alias_dict = pickle.load(handle)"
   ]
  },
  {
   "cell_type": "code",
   "execution_count": 34,
   "id": "568d2227-4d17-49b8-8ad3-53962fd6de80",
   "metadata": {},
   "outputs": [],
   "source": [
    "with open('related_dict.pickle', 'rb') as handle:\n",
    "    related_dict = pickle.load(handle)"
   ]
  },
  {
   "cell_type": "code",
   "execution_count": 36,
   "id": "6c9cb7cf-4763-4ce3-bdc3-4ff49192096b",
   "metadata": {},
   "outputs": [],
   "source": [
    "def threat_actor_connection(actor1, actor2, alias_dict, related_dict):\n",
    "    \"\"\"\n",
    "    Determines the connection type between two threat actors based on alias and related group information.\n",
    "\n",
    "    Args:\n",
    "        actor1: The first threat actor.\n",
    "        actor2: The second threat actor.\n",
    "        alias_dict: A dictionary where keys are threat actors and values are lists of their aliases.\n",
    "        related_dict: A dictionary where keys are threat actors and values are lists of related threat actors.\n",
    "\n",
    "    Returns:\n",
    "        \"C\" if the actors are connected via an alias chain.\n",
    "        \"P\" if the actors are connected via a related group chain.\n",
    "        \"I\" if no connection is found.\n",
    "    \"\"\"\n",
    "\n",
    "    actor1 = actor1.strip().lower()\n",
    "    actor2 = actor2.strip().lower()\n",
    "\n",
    "    # Normalize dictionaries and ensure bidirectional alias relationships\n",
    "    alias_dict = {k.strip().lower(): [v.strip().lower() for v in val] for k, val in alias_dict.items()}\n",
    "    for actor in list(alias_dict): # Iterate over a copy of the keys\n",
    "        aliases = alias_dict[actor]\n",
    "        for alias in aliases:\n",
    "            if actor not in alias_dict.setdefault(alias, []):  # Avoid duplicates\n",
    "                alias_dict[alias].append(actor)\n",
    "\n",
    "    related_dict = {k.strip().lower(): [v.strip().lower() for v in val] for k, val in related_dict.items()}\n",
    "    for actor in list(related_dict):  # Iterate over a copy of the keys\n",
    "        related_groups = related_dict[actor]\n",
    "        for related_actor in related_groups:\n",
    "            if actor not in related_dict.setdefault(related_actor, []):\n",
    "                related_dict[related_actor].append(actor)\n",
    "\n",
    "    if is_alias_connected(actor1, actor2, alias_dict):\n",
    "        return \"C\"\n",
    "\n",
    "    if is_related_connected(actor1, actor2, alias_dict, related_dict):\n",
    "        return \"P\"\n",
    "\n",
    "    return \"I\"\n",
    "\n",
    "\n",
    "def is_alias_connected(actor1, actor2, alias_dict):\n",
    "    \"\"\"\n",
    "    Checks if two actors are connected through an alias chain using Breadth First Search (BFS).\n",
    "    \"\"\"\n",
    "    visited = set()\n",
    "    queue = [actor1]\n",
    "\n",
    "    while queue:\n",
    "        current_actor = queue.pop(0)\n",
    "        visited.add(current_actor)\n",
    "\n",
    "        for alias in alias_dict.get(current_actor, []):\n",
    "            if alias == actor2:\n",
    "                return True\n",
    "            if alias not in visited:\n",
    "                queue.append(alias)\n",
    "\n",
    "    return False\n",
    "\n",
    "\n",
    "def is_related_connected(actor1, actor2, alias_dict, related_dict) :\n",
    "    \"\"\"\n",
    "    Checks if two actors are connected through a chain of aliases and related groups using BFS.\n",
    "    \"\"\"\n",
    "    visited = set()\n",
    "    queue = [actor1]\n",
    "\n",
    "    while queue:\n",
    "        current_actor = queue.pop(0)\n",
    "        visited.add(current_actor)\n",
    "\n",
    "        for alias in alias_dict.get(current_actor, []):\n",
    "            if alias == actor2:\n",
    "                return True\n",
    "            if alias not in visited:\n",
    "                queue.append(alias)\n",
    "\n",
    "        for related_actor in related_dict.get(current_actor, []):\n",
    "            if related_actor == actor2:\n",
    "                return True\n",
    "            if related_actor not in visited:\n",
    "                queue.append(related_actor)\n",
    "\n",
    "    return False"
   ]
  },
  {
   "cell_type": "code",
   "execution_count": 38,
   "id": "367653f4-175d-4dae-b6d3-21feed5b5af8",
   "metadata": {},
   "outputs": [],
   "source": [
    "def compute_taa_accuracy(fname, col):\n",
    "    \"\"\"\n",
    "    Returns Correct & Plausible Accuracy\n",
    "    \"\"\"\n",
    "    df = pd.read_csv(fname, sep='\\t')\n",
    "    correct = 0\n",
    "    plausible = 0\n",
    "    total = 0\n",
    "    \n",
    "    for idx, row in df.iterrows():\n",
    "        pred = row[col].lower().strip()\n",
    "        gt = row['GT'].lower().strip()\n",
    "        \n",
    "        res = threat_actor_connection(gt, pred, alias_dict, related_dict)\n",
    "\n",
    "        if res == 'C':\n",
    "            correct += 1\n",
    "        elif res == 'P':\n",
    "            plausible += 1\n",
    "        total += 1\n",
    "\n",
    "    return correct/total*100, (correct+plausible)/total*100"
   ]
  },
  {
   "cell_type": "code",
   "execution_count": 42,
   "id": "7627fbc7-a657-4a31-9faa-6eaca901bb82",
   "metadata": {},
   "outputs": [
    {
     "name": "stdout",
     "output_type": "stream",
     "text": [
      "Correct & Plausible Accuracy [LLAMA 70B]: (48.64864864864865, 62.16216216216216)\n",
      "Correct & Plausible Accuracy [LLAMA 8B]: (20.27027027027027, 29.72972972972973)\n"
     ]
    }
   ],
   "source": [
    "print('Correct & Plausible Accuracy [LLAMA 70B]:', compute_taa_accuracy('responses/EvaluationFinale_TAA.tsv', model_name))\n",
    "print('Correct & Plausible Accuracy [LLAMA 8B]:', compute_taa_accuracy('responses/EvaluationFinale_TAA.tsv', model_name2))"
   ]
  },
  {
   "cell_type": "code",
   "execution_count": 161,
   "id": "d1e76fa2-9cb6-44b1-a913-797432ac0958",
   "metadata": {},
   "outputs": [],
   "source": [
    "import matplotlib.pyplot as plt"
   ]
  },
  {
   "cell_type": "code",
   "execution_count": 262,
   "id": "ba2186ad-6d44-4951-9059-1b0b1e3bcd85",
   "metadata": {},
   "outputs": [],
   "source": [
    "models = [\"ChatGPT-4\",\"ChatGPT-3.5\",\"Gemini-1.5\",\"LLAMA3-70B\",\"LLAMA3-8B\"]"
   ]
  },
  {
   "cell_type": "code",
   "execution_count": 264,
   "id": "6571aa86-b1a6-48e0-a83c-8add8d491528",
   "metadata": {},
   "outputs": [
    {
     "name": "stdout",
     "output_type": "stream",
     "text": [
      "Invalid response at row 49\n",
      "Invalid response at row 89\n",
      "Invalid response at row 139\n",
      "Invalid response at row 140\n",
      "Invalid response at row 163\n",
      "Invalid response at row 167\n",
      "Invalid response at row 184\n",
      "Invalid response at row 197\n",
      "Invalid response at row 204\n",
      "Invalid response at row 214\n",
      "Invalid response at row 215\n",
      "Invalid response at row 218\n",
      "Invalid response at row 230\n",
      "Invalid response at row 250\n",
      "Invalid response at row 280\n",
      "Invalid response at row 283\n",
      "Invalid response at row 286\n",
      "Invalid response at row 301\n",
      "Invalid response at row 306\n",
      "Invalid response at row 310\n",
      "Invalid response at row 320\n",
      "Invalid response at row 325\n",
      "Invalid response at row 327\n",
      "Invalid response at row 328\n",
      "Invalid response at row 334\n",
      "Invalid response at row 337\n",
      "Invalid response at row 339\n",
      "Invalid response at row 363\n",
      "Invalid response at row 369\n",
      "Invalid response at row 380\n",
      "Invalid response at row 395\n",
      "Invalid response at row 402\n",
      "Invalid response at row 425\n",
      "Invalid response at row 434\n",
      "Invalid response at row 447\n",
      "Invalid response at row 449\n",
      "Invalid response at row 465\n",
      "Invalid response at row 469\n",
      "Invalid response at row 474\n",
      "Invalid response at row 481\n",
      "Invalid response at row 495\n",
      "Invalid response at row 518\n",
      "Invalid response at row 520\n",
      "Invalid response at row 526\n",
      "Invalid response at row 530\n",
      "Invalid response at row 543\n",
      "Invalid response at row 544\n",
      "Invalid response at row 549\n",
      "Invalid response at row 574\n",
      "Invalid response at row 580\n",
      "Invalid response at row 607\n",
      "Invalid response at row 634\n",
      "Invalid response at row 713\n",
      "Invalid response at row 715\n",
      "Invalid response at row 721\n",
      "Invalid response at row 728\n",
      "Invalid response at row 748\n",
      "Invalid response at row 761\n",
      "Invalid response at row 778\n",
      "Invalid response at row 793\n",
      "Invalid response at row 797\n",
      "Invalid response at row 798\n",
      "Invalid response at row 804\n",
      "Invalid response at row 809\n",
      "Invalid response at row 811\n",
      "Invalid response at row 829\n",
      "Invalid response at row 855\n",
      "Invalid response at row 899\n",
      "Invalid response at row 901\n",
      "Invalid response at row 902\n",
      "Invalid response at row 927\n",
      "Invalid response at row 941\n",
      "Invalid response at row 943\n",
      "Invalid response at row 960\n",
      "Invalid response at row 980\n",
      "Invalid response at row 987\n",
      "Invalid response at row 988\n",
      "ChatGPT-4 : MCQ =  71.0 RCM =  72.0 VSP = 1.31 TAA (Correct)= 52.0 TAA (Plausible)= 86.0\n",
      "ChatGPT-3.5 : MCQ =  54.12 RCM =  67.2 VSP = 1.57 TAA (Correct)= 44.0 TAA (Plausible)= 62.0\n",
      "Gemini-1.5 : MCQ =  65.44 RCM =  66.63 VSP = 1.09 TAA (Correct)= 38.0 TAA (Plausible)= 74.0\n",
      "LLAMA3-70B : MCQ =  65.76 RCM =  65.9 VSP = 1.83 TAA (Correct)= 52.0 TAA (Plausible)= 80.0\n",
      "LLAMA3-8B : MCQ =  61.32 RCM =  44.7 VSP = 1.91 TAA (Correct)= 28.0 TAA (Plausible)= 36.0\n"
     ]
    }
   ],
   "source": [
    "mcq_accuracy = [compute_mcq_accuracy('responses/EvaluationFinale_MCQ.tsv', i) for i in models]\n",
    "rcm_accuracy = [compute_rcm_accuracy('responses/EvaluationFinale_RCM.tsv', i) for i in models]\n",
    "vsp_mad = [compute_vsp_mad('responses/EvaluationFinale_VSP.tsv', i) for i in models]\n",
    "taa_accuracy = [compute_taa_accuracy('responses/EvaluationFinale_TAA.tsv', i) for i in models]\n",
    "for i in range(0,len(models)):\n",
    "    print(models[i],\": MCQ = \", round(mcq_accuracy[i],2),\"RCM = \",round(rcm_accuracy[i],2),\"VSP =\", round(vsp_mad[i],2), \"TAA (Correct)=\",round(taa_accuracy[i][0],2),\"TAA (Plausible)=\",round(taa_accuracy[i][1],2))"
   ]
  },
  {
   "cell_type": "code",
   "execution_count": null,
   "id": "79186c35-5aca-4ce4-a32f-d047e537cb6f",
   "metadata": {},
   "outputs": [],
   "source": []
  }
 ],
 "metadata": {
  "kernelspec": {
   "display_name": "Python 3 (ipykernel)",
   "language": "python",
   "name": "python3"
  },
  "language_info": {
   "codemirror_mode": {
    "name": "ipython",
    "version": 3
   },
   "file_extension": ".py",
   "mimetype": "text/x-python",
   "name": "python",
   "nbconvert_exporter": "python",
   "pygments_lexer": "ipython3",
   "version": "3.12.4"
  }
 },
 "nbformat": 4,
 "nbformat_minor": 5
}
