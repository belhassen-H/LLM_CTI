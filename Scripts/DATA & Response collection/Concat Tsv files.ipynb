{
 "cells": [
  {
   "cell_type": "code",
   "execution_count": 1,
   "id": "45f3b7e0-7f9f-4ca0-b3ad-240d7e28751f",
   "metadata": {},
   "outputs": [],
   "source": [
    "import pandas as pd\n",
    "import glob\n",
    "\n",
    "# List all TSV files in the directory (you can modify the pattern as needed)\n",
    "tsv_files = glob.glob('VSP/Llama70B/*.tsv')\n",
    "\n",
    "# Read and concatenate all TSV files\n",
    "df_list = [pd.read_csv(file, sep='\\t') for file in tsv_files]\n",
    "combined_df = pd.concat(df_list, ignore_index=True)\n",
    "\n",
    "# Save the concatenated DataFrame to a new TSV file\n",
    "combined_df.to_csv('vsp/vsp_llama70B.tsv', sep='\\t', index=False)\n"
   ]
  },
  {
   "cell_type": "code",
   "execution_count": 2,
   "id": "98fe7de7-bf79-40a9-ac37-32dfed9782e5",
   "metadata": {},
   "outputs": [
    {
     "data": {
      "text/plain": [
       "(9480, 4)"
      ]
     },
     "execution_count": 2,
     "metadata": {},
     "output_type": "execute_result"
    }
   ],
   "source": [
    "combined_df.shape"
   ]
  },
  {
   "cell_type": "code",
   "execution_count": null,
   "id": "b86ed7c7-dbd9-4843-b580-a9092b0d3486",
   "metadata": {},
   "outputs": [],
   "source": []
  }
 ],
 "metadata": {
  "kernelspec": {
   "display_name": "Python 3 (ipykernel)",
   "language": "python",
   "name": "python3"
  },
  "language_info": {
   "codemirror_mode": {
    "name": "ipython",
    "version": 3
   },
   "file_extension": ".py",
   "mimetype": "text/x-python",
   "name": "python",
   "nbconvert_exporter": "python",
   "pygments_lexer": "ipython3",
   "version": "3.11.7"
  }
 },
 "nbformat": 4,
 "nbformat_minor": 5
}
