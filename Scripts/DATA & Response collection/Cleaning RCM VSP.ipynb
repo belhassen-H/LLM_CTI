{
 "cells": [
  {
   "cell_type": "code",
   "execution_count": 5,
   "id": "17a78e81-cb79-49d6-9390-672b56ed6300",
   "metadata": {},
   "outputs": [],
   "source": [
    "import pandas as pd\n",
    "\n",
    "# Read the TSV file\n",
    "df = pd.read_csv('Final and clean data/combined_file.tsv', sep='\\t', encoding='utf-8')\n",
    "\n",
    "# Drop rows where both 'cwe' and 'cvss' columns are empty\n",
    "df_cleaned = df.dropna(subset=['vectorString','cwe_number'], how='all')\n",
    "\n",
    "# Save the cleaned data back to the same TSV file\n",
    "df_cleaned.to_csv('Final and clean data/combined_file.tsv', sep='\\t', index=False, encoding='utf-8')\n"
   ]
  },
  {
   "cell_type": "code",
   "execution_count": 8,
   "id": "17149e20-bf60-4e95-b7b0-36ac1d5566bf",
   "metadata": {},
   "outputs": [],
   "source": [
    "# Create a dataframe with all columns except 'vectorString'\n",
    "df_no_vectorString = df_cleaned.drop(columns=['vectorString'])\n",
    "\n",
    "# Create a dataframe with all columns except 'cwe'\n",
    "df_no_cwe = df_cleaned.drop(columns=['cwe_number'])\n",
    "\n",
    "# Save the dataframes to separate TSV files\n",
    "df_no_vectorString.to_csv('RCM.tsv', sep='\\t', index=False, encoding='utf-8')\n",
    "df_no_cwe.to_csv('VSP.tsv', sep='\\t', index=False, encoding='utf-8')\n"
   ]
  },
  {
   "cell_type": "code",
   "execution_count": 9,
   "id": "2dffa2e2-6152-42cb-bcce-5569782ace84",
   "metadata": {},
   "outputs": [],
   "source": [
    "\n",
    "df = pd.read_csv('RCM.tsv', sep='\\t', encoding='utf-8')\n",
    "\n",
    "# Drop rows where 'cwe_number' column is empty\n",
    "df_cleaned = df.dropna(subset=['cwe_number'])\n",
    "\n",
    "# Save the cleaned data back to the same TSV file\n",
    "df_cleaned.to_csv('RCM.tsv', sep='\\t', index=False, encoding='utf-8')\n"
   ]
  },
  {
   "cell_type": "code",
   "execution_count": 11,
   "id": "e179134b-79b2-4b7c-baa2-2da36c06cd89",
   "metadata": {},
   "outputs": [],
   "source": [
    "\n",
    "df = pd.read_csv('VSP.tsv', sep='\\t', encoding='utf-8')\n",
    "\n",
    "# Drop rows where 'cwe_number' column is empty\n",
    "df_cleaned = df.dropna(subset=['vectorString'])\n",
    "\n",
    "# Save the cleaned data back to the same TSV file\n",
    "df_cleaned.to_csv('VSP.tsv', sep='\\t', index=False, encoding='utf-8')"
   ]
  },
  {
   "cell_type": "code",
   "execution_count": null,
   "id": "2cbff610-236e-41f0-b5ac-dbe1c9c48614",
   "metadata": {},
   "outputs": [],
   "source": []
  }
 ],
 "metadata": {
  "kernelspec": {
   "display_name": "Python 3 (ipykernel)",
   "language": "python",
   "name": "python3"
  },
  "language_info": {
   "codemirror_mode": {
    "name": "ipython",
    "version": 3
   },
   "file_extension": ".py",
   "mimetype": "text/x-python",
   "name": "python",
   "nbconvert_exporter": "python",
   "pygments_lexer": "ipython3",
   "version": "3.11.7"
  }
 },
 "nbformat": 4,
 "nbformat_minor": 5
}
