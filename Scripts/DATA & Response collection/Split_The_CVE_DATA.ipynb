{
 "cells": [
  {
   "cell_type": "code",
   "execution_count": 1,
   "id": "0a230000-a9b4-4a01-aa0d-69f4e369c56a",
   "metadata": {},
   "outputs": [
    {
     "name": "stdout",
     "output_type": "stream",
     "text": [
      "TSV file split into 4 parts successfully!\n"
     ]
    }
   ],
   "source": [
    "import pandas as pd\n",
    "\n",
    "# Load the TSV file into a DataFrame\n",
    "file_path = 'VSP_Final.tsv'  # Replace with your actual file path\n",
    "df = pd.read_csv(file_path, sep='\\t')\n",
    "\n",
    "# Determine the number of rows each split file should have\n",
    "num_splits = 4\n",
    "rows_per_file = len(df) // num_splits\n",
    "remainder = len(df) % num_splits\n",
    "\n",
    "# Split the DataFrame and save each part\n",
    "for i in range(num_splits):\n",
    "    start_idx = i * rows_per_file\n",
    "    end_idx = start_idx + rows_per_file + (1 if i < remainder else 0)  # Distribute remainder rows\n",
    "    split_df = df[start_idx:end_idx]\n",
    "    \n",
    "    # Save the split DataFrame to a TSV file\n",
    "    split_file_path = f'split_file_{i+1}.tsv'\n",
    "    split_df.to_csv(split_file_path, sep='\\t', index=False)\n",
    "\n",
    "print(\"TSV file split into 4 parts successfully!\")\n"
   ]
  },
  {
   "cell_type": "code",
   "execution_count": 4,
   "id": "b95f7fce-b0d8-42e0-aa8e-89df2f7a3b0c",
   "metadata": {},
   "outputs": [
    {
     "name": "stdout",
     "output_type": "stream",
     "text": [
      "TSV file split into 16 parts successfully!\n"
     ]
    }
   ],
   "source": [
    "import pandas as pd\n",
    "\n",
    "# Load the TSV file into a DataFrame\n",
    "file_path = 'VSP_Final.tsv'  # Replace with your actual file path\n",
    "df = pd.read_csv(file_path, sep='\\t')\n",
    "\n",
    "# Determine the number of rows each split file should have\n",
    "num_splits = 16\n",
    "rows_per_file = len(df) // num_splits\n",
    "remainder = len(df) % num_splits\n",
    "\n",
    "# Split the DataFrame and save each part\n",
    "for i in range(num_splits):\n",
    "    start_idx = i * rows_per_file\n",
    "    end_idx = start_idx + rows_per_file + (1 if i < remainder else 0)  # Distribute remainder rows\n",
    "    split_df = df[start_idx:end_idx]\n",
    "    \n",
    "    # Save the split DataFrame to a TSV file\n",
    "    split_file_path = f'split_file_{i+1}.tsv'\n",
    "    split_df.to_csv(split_file_path, sep='\\t', index=False)\n",
    "\n",
    "print(\"TSV file split into 16 parts successfully!\")\n"
   ]
  },
  {
   "cell_type": "code",
   "execution_count": null,
   "id": "ad4a5584-a4c8-42c3-b56b-2b3595e79eee",
   "metadata": {},
   "outputs": [],
   "source": []
  }
 ],
 "metadata": {
  "kernelspec": {
   "display_name": "Python 3 (ipykernel)",
   "language": "python",
   "name": "python3"
  },
  "language_info": {
   "codemirror_mode": {
    "name": "ipython",
    "version": 3
   },
   "file_extension": ".py",
   "mimetype": "text/x-python",
   "name": "python",
   "nbconvert_exporter": "python",
   "pygments_lexer": "ipython3",
   "version": "3.11.7"
  }
 },
 "nbformat": 4,
 "nbformat_minor": 5
}
