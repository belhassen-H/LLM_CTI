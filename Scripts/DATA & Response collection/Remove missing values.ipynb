{
 "cells": [
  {
   "cell_type": "code",
   "execution_count": 2,
   "id": "94ffd06c-09ee-45f6-be57-19903243daa2",
   "metadata": {},
   "outputs": [
    {
     "name": "stdout",
     "output_type": "stream",
     "text": [
      "              id                                             url  \\\n",
      "0  CVE-2024-0006  https://nvd.nist.gov/vuln/detail/CVE-2024-0006   \n",
      "1  CVE-2024-0007  https://nvd.nist.gov/vuln/detail/CVE-2024-0007   \n",
      "2  CVE-2024-0008  https://nvd.nist.gov/vuln/detail/CVE-2024-0008   \n",
      "3  CVE-2024-0009  https://nvd.nist.gov/vuln/detail/CVE-2024-0009   \n",
      "4  CVE-2024-0010  https://nvd.nist.gov/vuln/detail/CVE-2024-0010   \n",
      "\n",
      "                                         description vectorString  \n",
      "0  Information exposure in the logging system in ...          NaN  \n",
      "1  A cross-site scripting (XSS) vulnerability in ...          NaN  \n",
      "2  Web sessions in the management interface in Pa...          NaN  \n",
      "3  An improper verification vulnerability in the ...          NaN  \n",
      "4  A reflected cross-site scripting (XSS) vulnera...          NaN  \n",
      "               id                                             url  \\\n",
      "47  CVE-2024-0056  https://nvd.nist.gov/vuln/detail/CVE-2024-0056   \n",
      "48  CVE-2024-0057  https://nvd.nist.gov/vuln/detail/CVE-2024-0057   \n",
      "90  CVE-2024-0158  https://nvd.nist.gov/vuln/detail/CVE-2024-0158   \n",
      "96  CVE-2024-0164  https://nvd.nist.gov/vuln/detail/CVE-2024-0164   \n",
      "97  CVE-2024-0165  https://nvd.nist.gov/vuln/detail/CVE-2024-0165   \n",
      "\n",
      "                                          description  \\\n",
      "47  Microsoft.Data.SqlClient and System.Data.SqlCl...   \n",
      "48  NET, .NET Framework, and Visual Studio Securit...   \n",
      "90  Dell BIOS contains an improper input validatio...   \n",
      "96  \\nDell Unity, versions prior to 5.4, contain a...   \n",
      "97  \\nDell Unity, versions prior to 5.4, contains ...   \n",
      "\n",
      "                                    vectorString  \n",
      "47  CVSS:3.1/AV:N/AC:H/PR:N/UI:N/S:C/C:H/I:H/A:N  \n",
      "48  CVSS:3.1/AV:N/AC:L/PR:N/UI:N/S:U/C:H/I:H/A:H  \n",
      "90  CVSS:3.1/AV:L/AC:L/PR:H/UI:N/S:U/C:H/I:H/A:H  \n",
      "96  CVSS:3.1/AV:L/AC:L/PR:L/UI:N/S:U/C:H/I:H/A:H  \n",
      "97  CVSS:3.1/AV:L/AC:L/PR:L/UI:N/S:U/C:H/I:H/A:H  \n"
     ]
    }
   ],
   "source": [
    "import pandas as pd\n",
    "\n",
    "# Load the dataset\n",
    "df = pd.read_csv('cve_data.tsv', sep='\\t')\n",
    "\n",
    "# Display the first few rows of the dataset to understand its structure\n",
    "print(df.head())\n",
    "\n",
    "# Specify the column from which you want to remove rows with missing values\n",
    "column_name = 'vectorString'\n",
    "\n",
    "# Remove rows with missing values in the specified column\n",
    "df_cleaned = df.dropna(subset=[column_name])\n",
    "\n",
    "# Display the first few rows of the cleaned dataset\n",
    "print(df_cleaned.head())\n",
    "\n",
    "# Optionally, save the cleaned dataset to a new CSV file\n",
    "df_cleaned.to_csv('cleaned_dataset.csv', index=False)\n"
   ]
  },
  {
   "cell_type": "code",
   "execution_count": 4,
   "id": "e0a717c7-48f8-4005-ba54-76f884cf5812",
   "metadata": {},
   "outputs": [
    {
     "data": {
      "text/plain": [
       "(1007, 4)"
      ]
     },
     "execution_count": 4,
     "metadata": {},
     "output_type": "execute_result"
    }
   ],
   "source": [
    "df_cleaned.shape"
   ]
  },
  {
   "cell_type": "code",
   "execution_count": null,
   "id": "7e1c8585-4c3d-4d75-8dbb-f3a52c1f6862",
   "metadata": {},
   "outputs": [],
   "source": []
  }
 ],
 "metadata": {
  "kernelspec": {
   "display_name": "Python 3 (ipykernel)",
   "language": "python",
   "name": "python3"
  },
  "language_info": {
   "codemirror_mode": {
    "name": "ipython",
    "version": 3
   },
   "file_extension": ".py",
   "mimetype": "text/x-python",
   "name": "python",
   "nbconvert_exporter": "python",
   "pygments_lexer": "ipython3",
   "version": "3.11.7"
  }
 },
 "nbformat": 4,
 "nbformat_minor": 5
}
